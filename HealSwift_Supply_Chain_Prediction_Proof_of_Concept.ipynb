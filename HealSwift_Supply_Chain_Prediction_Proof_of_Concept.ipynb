{
  "metadata": {
    "kernelspec": {
      "language": "python",
      "display_name": "Python 3",
      "name": "python3"
    },
    "language_info": {
      "name": "python",
      "version": "3.10.12",
      "mimetype": "text/x-python",
      "codemirror_mode": {
        "name": "ipython",
        "version": 3
      },
      "pygments_lexer": "ipython3",
      "nbconvert_exporter": "python",
      "file_extension": ".py"
    },
    "kaggle": {
      "accelerator": "none",
      "dataSources": [
        {
          "sourceId": 2804155,
          "sourceType": "datasetVersion",
          "datasetId": 1713286
        }
      ],
      "dockerImageVersionId": 30626,
      "isInternetEnabled": true,
      "language": "python",
      "sourceType": "notebook",
      "isGpuEnabled": false
    },
    "colab": {
      "provenance": []
    }
  },
  "nbformat_minor": 0,
  "nbformat": 4,
  "cells": [
    {
      "cell_type": "code",
      "source": [
        "from google.colab import drive\n",
        "drive.mount('/content/drive')"
      ],
      "metadata": {
        "colab": {
          "base_uri": "https://localhost:8080/"
        },
        "id": "8-414pBq_QlI",
        "outputId": "8c075de8-3b96-4cbd-aa5b-d513256f81e6"
      },
      "execution_count": null,
      "outputs": [
        {
          "output_type": "stream",
          "name": "stdout",
          "text": [
            "Drive already mounted at /content/drive; to attempt to forcibly remount, call drive.mount(\"/content/drive\", force_remount=True).\n"
          ]
        }
      ]
    },
    {
      "cell_type": "code",
      "source": [
        "import pandas as pd\n",
        "from sklearn.compose import ColumnTransformer\n",
        "from sklearn.pipeline import Pipeline\n",
        "from sklearn.preprocessing import StandardScaler, OneHotEncoder, LabelEncoder\n",
        "from sklearn.ensemble import RandomForestClassifier\n",
        "from sklearn.neural_network import MLPClassifier\n",
        "\n",
        "from sklearn.model_selection import train_test_split\n",
        "import matplotlib.pyplot as plt"
      ],
      "metadata": {
        "_uuid": "8f2839f25d086af736a60e9eeb907d3b93b6e0e5",
        "_cell_guid": "b1076dfc-b9ad-4769-8c92-a6c4dae69d19",
        "execution": {
          "iopub.status.busy": "2024-01-07T10:33:52.723718Z",
          "iopub.execute_input": "2024-01-07T10:33:52.724111Z",
          "iopub.status.idle": "2024-01-07T10:33:54.189753Z",
          "shell.execute_reply.started": "2024-01-07T10:33:52.724073Z",
          "shell.execute_reply": "2024-01-07T10:33:54.188536Z"
        },
        "trusted": true,
        "id": "l0crxHHT--iZ"
      },
      "execution_count": null,
      "outputs": []
    },
    {
      "cell_type": "code",
      "source": [
        "df= pd.read_csv(\"/content/drive/MyDrive/kaggle/input/back-order-prediction/Back_order_train.csv\")"
      ],
      "metadata": {
        "execution": {
          "iopub.status.busy": "2024-01-07T10:33:54.19168Z",
          "iopub.execute_input": "2024-01-07T10:33:54.192191Z",
          "iopub.status.idle": "2024-01-07T10:34:00.203618Z",
          "shell.execute_reply.started": "2024-01-07T10:33:54.192156Z",
          "shell.execute_reply": "2024-01-07T10:34:00.202617Z"
        },
        "trusted": true,
        "id": "LqOvWbuV--iZ",
        "colab": {
          "base_uri": "https://localhost:8080/"
        },
        "outputId": "eeb901b6-3423-4f2c-dc4e-ba0ad389030c"
      },
      "execution_count": null,
      "outputs": [
        {
          "output_type": "stream",
          "name": "stderr",
          "text": [
            "<ipython-input-88-66a5648dccfe>:1: DtypeWarning: Columns (0) have mixed types. Specify dtype option on import or set low_memory=False.\n",
            "  df= pd.read_csv(\"/content/drive/MyDrive/kaggle/input/back-order-prediction/Back_order_train.csv\")\n"
          ]
        }
      ]
    },
    {
      "cell_type": "code",
      "source": [
        "df.head(3)"
      ],
      "metadata": {
        "execution": {
          "iopub.status.busy": "2024-01-07T10:34:00.205084Z",
          "iopub.execute_input": "2024-01-07T10:34:00.205396Z",
          "iopub.status.idle": "2024-01-07T10:34:00.248402Z",
          "shell.execute_reply.started": "2024-01-07T10:34:00.205369Z",
          "shell.execute_reply": "2024-01-07T10:34:00.24753Z"
        },
        "trusted": true,
        "id": "bTdwBYzW--ia",
        "colab": {
          "base_uri": "https://localhost:8080/",
          "height": 193
        },
        "outputId": "9f77aa00-1384-43f1-f6b9-8f08132b0f3c"
      },
      "execution_count": null,
      "outputs": [
        {
          "output_type": "execute_result",
          "data": {
            "text/plain": [
              "       sku  national_inv  lead_time  in_transit_qty  forecast_3_month  \\\n",
              "0  1026827           0.0        NaN             0.0               0.0   \n",
              "1  1043384           2.0        9.0             0.0               0.0   \n",
              "2  1043696           2.0        NaN             0.0               0.0   \n",
              "\n",
              "   forecast_6_month  forecast_9_month  sales_1_month  sales_3_month  \\\n",
              "0               0.0               0.0            0.0            0.0   \n",
              "1               0.0               0.0            0.0            0.0   \n",
              "2               0.0               0.0            0.0            0.0   \n",
              "\n",
              "   sales_6_month  ...  pieces_past_due  perf_6_month_avg perf_12_month_avg  \\\n",
              "0            0.0  ...              0.0            -99.00            -99.00   \n",
              "1            0.0  ...              0.0              0.99              0.99   \n",
              "2            0.0  ...              0.0            -99.00            -99.00   \n",
              "\n",
              "   local_bo_qty  deck_risk  oe_constraint  ppap_risk stop_auto_buy rev_stop  \\\n",
              "0           0.0         No             No         No           Yes       No   \n",
              "1           0.0         No             No         No           Yes       No   \n",
              "2           0.0        Yes             No         No           Yes       No   \n",
              "\n",
              "  went_on_backorder  \n",
              "0                No  \n",
              "1                No  \n",
              "2                No  \n",
              "\n",
              "[3 rows x 23 columns]"
            ],
            "text/html": [
              "\n",
              "  <div id=\"df-f5ccf9af-1c25-42d4-8b09-9fddb69f2132\" class=\"colab-df-container\">\n",
              "    <div>\n",
              "<style scoped>\n",
              "    .dataframe tbody tr th:only-of-type {\n",
              "        vertical-align: middle;\n",
              "    }\n",
              "\n",
              "    .dataframe tbody tr th {\n",
              "        vertical-align: top;\n",
              "    }\n",
              "\n",
              "    .dataframe thead th {\n",
              "        text-align: right;\n",
              "    }\n",
              "</style>\n",
              "<table border=\"1\" class=\"dataframe\">\n",
              "  <thead>\n",
              "    <tr style=\"text-align: right;\">\n",
              "      <th></th>\n",
              "      <th>sku</th>\n",
              "      <th>national_inv</th>\n",
              "      <th>lead_time</th>\n",
              "      <th>in_transit_qty</th>\n",
              "      <th>forecast_3_month</th>\n",
              "      <th>forecast_6_month</th>\n",
              "      <th>forecast_9_month</th>\n",
              "      <th>sales_1_month</th>\n",
              "      <th>sales_3_month</th>\n",
              "      <th>sales_6_month</th>\n",
              "      <th>...</th>\n",
              "      <th>pieces_past_due</th>\n",
              "      <th>perf_6_month_avg</th>\n",
              "      <th>perf_12_month_avg</th>\n",
              "      <th>local_bo_qty</th>\n",
              "      <th>deck_risk</th>\n",
              "      <th>oe_constraint</th>\n",
              "      <th>ppap_risk</th>\n",
              "      <th>stop_auto_buy</th>\n",
              "      <th>rev_stop</th>\n",
              "      <th>went_on_backorder</th>\n",
              "    </tr>\n",
              "  </thead>\n",
              "  <tbody>\n",
              "    <tr>\n",
              "      <th>0</th>\n",
              "      <td>1026827</td>\n",
              "      <td>0.0</td>\n",
              "      <td>NaN</td>\n",
              "      <td>0.0</td>\n",
              "      <td>0.0</td>\n",
              "      <td>0.0</td>\n",
              "      <td>0.0</td>\n",
              "      <td>0.0</td>\n",
              "      <td>0.0</td>\n",
              "      <td>0.0</td>\n",
              "      <td>...</td>\n",
              "      <td>0.0</td>\n",
              "      <td>-99.00</td>\n",
              "      <td>-99.00</td>\n",
              "      <td>0.0</td>\n",
              "      <td>No</td>\n",
              "      <td>No</td>\n",
              "      <td>No</td>\n",
              "      <td>Yes</td>\n",
              "      <td>No</td>\n",
              "      <td>No</td>\n",
              "    </tr>\n",
              "    <tr>\n",
              "      <th>1</th>\n",
              "      <td>1043384</td>\n",
              "      <td>2.0</td>\n",
              "      <td>9.0</td>\n",
              "      <td>0.0</td>\n",
              "      <td>0.0</td>\n",
              "      <td>0.0</td>\n",
              "      <td>0.0</td>\n",
              "      <td>0.0</td>\n",
              "      <td>0.0</td>\n",
              "      <td>0.0</td>\n",
              "      <td>...</td>\n",
              "      <td>0.0</td>\n",
              "      <td>0.99</td>\n",
              "      <td>0.99</td>\n",
              "      <td>0.0</td>\n",
              "      <td>No</td>\n",
              "      <td>No</td>\n",
              "      <td>No</td>\n",
              "      <td>Yes</td>\n",
              "      <td>No</td>\n",
              "      <td>No</td>\n",
              "    </tr>\n",
              "    <tr>\n",
              "      <th>2</th>\n",
              "      <td>1043696</td>\n",
              "      <td>2.0</td>\n",
              "      <td>NaN</td>\n",
              "      <td>0.0</td>\n",
              "      <td>0.0</td>\n",
              "      <td>0.0</td>\n",
              "      <td>0.0</td>\n",
              "      <td>0.0</td>\n",
              "      <td>0.0</td>\n",
              "      <td>0.0</td>\n",
              "      <td>...</td>\n",
              "      <td>0.0</td>\n",
              "      <td>-99.00</td>\n",
              "      <td>-99.00</td>\n",
              "      <td>0.0</td>\n",
              "      <td>Yes</td>\n",
              "      <td>No</td>\n",
              "      <td>No</td>\n",
              "      <td>Yes</td>\n",
              "      <td>No</td>\n",
              "      <td>No</td>\n",
              "    </tr>\n",
              "  </tbody>\n",
              "</table>\n",
              "<p>3 rows × 23 columns</p>\n",
              "</div>\n",
              "    <div class=\"colab-df-buttons\">\n",
              "\n",
              "  <div class=\"colab-df-container\">\n",
              "    <button class=\"colab-df-convert\" onclick=\"convertToInteractive('df-f5ccf9af-1c25-42d4-8b09-9fddb69f2132')\"\n",
              "            title=\"Convert this dataframe to an interactive table.\"\n",
              "            style=\"display:none;\">\n",
              "\n",
              "  <svg xmlns=\"http://www.w3.org/2000/svg\" height=\"24px\" viewBox=\"0 -960 960 960\">\n",
              "    <path d=\"M120-120v-720h720v720H120Zm60-500h600v-160H180v160Zm220 220h160v-160H400v160Zm0 220h160v-160H400v160ZM180-400h160v-160H180v160Zm440 0h160v-160H620v160ZM180-180h160v-160H180v160Zm440 0h160v-160H620v160Z\"/>\n",
              "  </svg>\n",
              "    </button>\n",
              "\n",
              "  <style>\n",
              "    .colab-df-container {\n",
              "      display:flex;\n",
              "      gap: 12px;\n",
              "    }\n",
              "\n",
              "    .colab-df-convert {\n",
              "      background-color: #E8F0FE;\n",
              "      border: none;\n",
              "      border-radius: 50%;\n",
              "      cursor: pointer;\n",
              "      display: none;\n",
              "      fill: #1967D2;\n",
              "      height: 32px;\n",
              "      padding: 0 0 0 0;\n",
              "      width: 32px;\n",
              "    }\n",
              "\n",
              "    .colab-df-convert:hover {\n",
              "      background-color: #E2EBFA;\n",
              "      box-shadow: 0px 1px 2px rgba(60, 64, 67, 0.3), 0px 1px 3px 1px rgba(60, 64, 67, 0.15);\n",
              "      fill: #174EA6;\n",
              "    }\n",
              "\n",
              "    .colab-df-buttons div {\n",
              "      margin-bottom: 4px;\n",
              "    }\n",
              "\n",
              "    [theme=dark] .colab-df-convert {\n",
              "      background-color: #3B4455;\n",
              "      fill: #D2E3FC;\n",
              "    }\n",
              "\n",
              "    [theme=dark] .colab-df-convert:hover {\n",
              "      background-color: #434B5C;\n",
              "      box-shadow: 0px 1px 3px 1px rgba(0, 0, 0, 0.15);\n",
              "      filter: drop-shadow(0px 1px 2px rgba(0, 0, 0, 0.3));\n",
              "      fill: #FFFFFF;\n",
              "    }\n",
              "  </style>\n",
              "\n",
              "    <script>\n",
              "      const buttonEl =\n",
              "        document.querySelector('#df-f5ccf9af-1c25-42d4-8b09-9fddb69f2132 button.colab-df-convert');\n",
              "      buttonEl.style.display =\n",
              "        google.colab.kernel.accessAllowed ? 'block' : 'none';\n",
              "\n",
              "      async function convertToInteractive(key) {\n",
              "        const element = document.querySelector('#df-f5ccf9af-1c25-42d4-8b09-9fddb69f2132');\n",
              "        const dataTable =\n",
              "          await google.colab.kernel.invokeFunction('convertToInteractive',\n",
              "                                                    [key], {});\n",
              "        if (!dataTable) return;\n",
              "\n",
              "        const docLinkHtml = 'Like what you see? Visit the ' +\n",
              "          '<a target=\"_blank\" href=https://colab.research.google.com/notebooks/data_table.ipynb>data table notebook</a>'\n",
              "          + ' to learn more about interactive tables.';\n",
              "        element.innerHTML = '';\n",
              "        dataTable['output_type'] = 'display_data';\n",
              "        await google.colab.output.renderOutput(dataTable, element);\n",
              "        const docLink = document.createElement('div');\n",
              "        docLink.innerHTML = docLinkHtml;\n",
              "        element.appendChild(docLink);\n",
              "      }\n",
              "    </script>\n",
              "  </div>\n",
              "\n",
              "\n",
              "<div id=\"df-94195db1-bd5e-4db0-a9f2-3f50a0451ce8\">\n",
              "  <button class=\"colab-df-quickchart\" onclick=\"quickchart('df-94195db1-bd5e-4db0-a9f2-3f50a0451ce8')\"\n",
              "            title=\"Suggest charts\"\n",
              "            style=\"display:none;\">\n",
              "\n",
              "<svg xmlns=\"http://www.w3.org/2000/svg\" height=\"24px\"viewBox=\"0 0 24 24\"\n",
              "     width=\"24px\">\n",
              "    <g>\n",
              "        <path d=\"M19 3H5c-1.1 0-2 .9-2 2v14c0 1.1.9 2 2 2h14c1.1 0 2-.9 2-2V5c0-1.1-.9-2-2-2zM9 17H7v-7h2v7zm4 0h-2V7h2v10zm4 0h-2v-4h2v4z\"/>\n",
              "    </g>\n",
              "</svg>\n",
              "  </button>\n",
              "\n",
              "<style>\n",
              "  .colab-df-quickchart {\n",
              "      --bg-color: #E8F0FE;\n",
              "      --fill-color: #1967D2;\n",
              "      --hover-bg-color: #E2EBFA;\n",
              "      --hover-fill-color: #174EA6;\n",
              "      --disabled-fill-color: #AAA;\n",
              "      --disabled-bg-color: #DDD;\n",
              "  }\n",
              "\n",
              "  [theme=dark] .colab-df-quickchart {\n",
              "      --bg-color: #3B4455;\n",
              "      --fill-color: #D2E3FC;\n",
              "      --hover-bg-color: #434B5C;\n",
              "      --hover-fill-color: #FFFFFF;\n",
              "      --disabled-bg-color: #3B4455;\n",
              "      --disabled-fill-color: #666;\n",
              "  }\n",
              "\n",
              "  .colab-df-quickchart {\n",
              "    background-color: var(--bg-color);\n",
              "    border: none;\n",
              "    border-radius: 50%;\n",
              "    cursor: pointer;\n",
              "    display: none;\n",
              "    fill: var(--fill-color);\n",
              "    height: 32px;\n",
              "    padding: 0;\n",
              "    width: 32px;\n",
              "  }\n",
              "\n",
              "  .colab-df-quickchart:hover {\n",
              "    background-color: var(--hover-bg-color);\n",
              "    box-shadow: 0 1px 2px rgba(60, 64, 67, 0.3), 0 1px 3px 1px rgba(60, 64, 67, 0.15);\n",
              "    fill: var(--button-hover-fill-color);\n",
              "  }\n",
              "\n",
              "  .colab-df-quickchart-complete:disabled,\n",
              "  .colab-df-quickchart-complete:disabled:hover {\n",
              "    background-color: var(--disabled-bg-color);\n",
              "    fill: var(--disabled-fill-color);\n",
              "    box-shadow: none;\n",
              "  }\n",
              "\n",
              "  .colab-df-spinner {\n",
              "    border: 2px solid var(--fill-color);\n",
              "    border-color: transparent;\n",
              "    border-bottom-color: var(--fill-color);\n",
              "    animation:\n",
              "      spin 1s steps(1) infinite;\n",
              "  }\n",
              "\n",
              "  @keyframes spin {\n",
              "    0% {\n",
              "      border-color: transparent;\n",
              "      border-bottom-color: var(--fill-color);\n",
              "      border-left-color: var(--fill-color);\n",
              "    }\n",
              "    20% {\n",
              "      border-color: transparent;\n",
              "      border-left-color: var(--fill-color);\n",
              "      border-top-color: var(--fill-color);\n",
              "    }\n",
              "    30% {\n",
              "      border-color: transparent;\n",
              "      border-left-color: var(--fill-color);\n",
              "      border-top-color: var(--fill-color);\n",
              "      border-right-color: var(--fill-color);\n",
              "    }\n",
              "    40% {\n",
              "      border-color: transparent;\n",
              "      border-right-color: var(--fill-color);\n",
              "      border-top-color: var(--fill-color);\n",
              "    }\n",
              "    60% {\n",
              "      border-color: transparent;\n",
              "      border-right-color: var(--fill-color);\n",
              "    }\n",
              "    80% {\n",
              "      border-color: transparent;\n",
              "      border-right-color: var(--fill-color);\n",
              "      border-bottom-color: var(--fill-color);\n",
              "    }\n",
              "    90% {\n",
              "      border-color: transparent;\n",
              "      border-bottom-color: var(--fill-color);\n",
              "    }\n",
              "  }\n",
              "</style>\n",
              "\n",
              "  <script>\n",
              "    async function quickchart(key) {\n",
              "      const quickchartButtonEl =\n",
              "        document.querySelector('#' + key + ' button');\n",
              "      quickchartButtonEl.disabled = true;  // To prevent multiple clicks.\n",
              "      quickchartButtonEl.classList.add('colab-df-spinner');\n",
              "      try {\n",
              "        const charts = await google.colab.kernel.invokeFunction(\n",
              "            'suggestCharts', [key], {});\n",
              "      } catch (error) {\n",
              "        console.error('Error during call to suggestCharts:', error);\n",
              "      }\n",
              "      quickchartButtonEl.classList.remove('colab-df-spinner');\n",
              "      quickchartButtonEl.classList.add('colab-df-quickchart-complete');\n",
              "    }\n",
              "    (() => {\n",
              "      let quickchartButtonEl =\n",
              "        document.querySelector('#df-94195db1-bd5e-4db0-a9f2-3f50a0451ce8 button');\n",
              "      quickchartButtonEl.style.display =\n",
              "        google.colab.kernel.accessAllowed ? 'block' : 'none';\n",
              "    })();\n",
              "  </script>\n",
              "</div>\n",
              "    </div>\n",
              "  </div>\n"
            ],
            "application/vnd.google.colaboratory.intrinsic+json": {
              "type": "dataframe",
              "variable_name": "df"
            }
          },
          "metadata": {},
          "execution_count": 89
        }
      ]
    },
    {
      "cell_type": "code",
      "source": [
        "df.shape"
      ],
      "metadata": {
        "execution": {
          "iopub.status.busy": "2024-01-07T10:34:00.249539Z",
          "iopub.execute_input": "2024-01-07T10:34:00.250082Z",
          "iopub.status.idle": "2024-01-07T10:34:00.257563Z",
          "shell.execute_reply.started": "2024-01-07T10:34:00.25005Z",
          "shell.execute_reply": "2024-01-07T10:34:00.256358Z"
        },
        "trusted": true,
        "id": "1SjtRMzl--ia",
        "colab": {
          "base_uri": "https://localhost:8080/"
        },
        "outputId": "339a8c11-0bbe-4b6e-93c4-c8aebe2bf7c3"
      },
      "execution_count": null,
      "outputs": [
        {
          "output_type": "execute_result",
          "data": {
            "text/plain": [
              "(1687861, 23)"
            ]
          },
          "metadata": {},
          "execution_count": 90
        }
      ]
    },
    {
      "cell_type": "code",
      "source": [
        "df= df.drop('sku',axis=1)"
      ],
      "metadata": {
        "execution": {
          "iopub.status.busy": "2024-01-07T10:34:00.260536Z",
          "iopub.execute_input": "2024-01-07T10:34:00.261024Z",
          "iopub.status.idle": "2024-01-07T10:34:00.434855Z",
          "shell.execute_reply.started": "2024-01-07T10:34:00.260982Z",
          "shell.execute_reply": "2024-01-07T10:34:00.433667Z"
        },
        "trusted": true,
        "id": "utrJ_4lg--ia"
      },
      "execution_count": null,
      "outputs": []
    },
    {
      "cell_type": "code",
      "source": [
        "df['lead_time'].isnull().sum()/df.shape[0]"
      ],
      "metadata": {
        "execution": {
          "iopub.status.busy": "2024-01-07T10:34:00.43655Z",
          "iopub.execute_input": "2024-01-07T10:34:00.437002Z",
          "iopub.status.idle": "2024-01-07T10:34:00.449848Z",
          "shell.execute_reply.started": "2024-01-07T10:34:00.436962Z",
          "shell.execute_reply": "2024-01-07T10:34:00.448762Z"
        },
        "trusted": true,
        "id": "a-1LkZ0B--ib",
        "colab": {
          "base_uri": "https://localhost:8080/"
        },
        "outputId": "be96b490-ba2d-4020-9415-e9af67c41909"
      },
      "execution_count": null,
      "outputs": [
        {
          "output_type": "execute_result",
          "data": {
            "text/plain": [
              "0.05977624934754698"
            ]
          },
          "metadata": {},
          "execution_count": 92
        }
      ]
    },
    {
      "cell_type": "code",
      "source": [
        "import seaborn as sns"
      ],
      "metadata": {
        "execution": {
          "iopub.status.busy": "2024-01-07T10:34:00.451318Z",
          "iopub.execute_input": "2024-01-07T10:34:00.451668Z",
          "iopub.status.idle": "2024-01-07T10:34:00.663246Z",
          "shell.execute_reply.started": "2024-01-07T10:34:00.45164Z",
          "shell.execute_reply": "2024-01-07T10:34:00.662178Z"
        },
        "trusted": true,
        "id": "rNJTs6Eg--ib"
      },
      "execution_count": null,
      "outputs": []
    },
    {
      "cell_type": "code",
      "source": [
        "sns.boxplot(x='went_on_backorder', y='lead_time', data=df)\n",
        "plt.show()"
      ],
      "metadata": {
        "execution": {
          "iopub.status.busy": "2024-01-07T10:34:00.664451Z",
          "iopub.execute_input": "2024-01-07T10:34:00.66478Z",
          "iopub.status.idle": "2024-01-07T10:34:02.701997Z",
          "shell.execute_reply.started": "2024-01-07T10:34:00.664752Z",
          "shell.execute_reply": "2024-01-07T10:34:02.70098Z"
        },
        "trusted": true,
        "id": "wPo3Lusx--ib",
        "colab": {
          "base_uri": "https://localhost:8080/",
          "height": 450
        },
        "outputId": "a09d4011-43fa-4b3a-b0b6-21904a9913b7"
      },
      "execution_count": null,
      "outputs": [
        {
          "output_type": "display_data",
          "data": {
            "text/plain": [
              "<Figure size 640x480 with 1 Axes>"
            ],
            "image/png": "[encoded data removed]"
          },
          "metadata": {}
        }
      ]
    },
    {
      "cell_type": "code",
      "source": [
        "sns.countplot(x='went_on_backorder', data=df)\n",
        "plt.show()"
      ],
      "metadata": {
        "execution": {
          "iopub.status.busy": "2024-01-07T10:34:02.703243Z",
          "iopub.execute_input": "2024-01-07T10:34:02.703573Z",
          "iopub.status.idle": "2024-01-07T10:34:05.04506Z",
          "shell.execute_reply.started": "2024-01-07T10:34:02.703546Z",
          "shell.execute_reply": "2024-01-07T10:34:05.043894Z"
        },
        "trusted": true,
        "id": "UVXCwxPW--ic",
        "colab": {
          "base_uri": "https://localhost:8080/",
          "height": 465
        },
        "outputId": "c197a079-3fdd-4616-b2fa-06cd795d81cf"
      },
      "execution_count": null,
      "outputs": [
        {
          "output_type": "display_data",
          "data": {
            "text/plain": [
              "<Figure size 640x480 with 1 Axes>"
            ],
            "image/png": "[encoded data removed]"
          },
          "metadata": {}
        }
      ]
    },
    {
      "cell_type": "markdown",
      "source": [
        "Our data is extremely skewed thus we need to handle the imbalance. We will use the SMOTE-Tomek technique"
      ],
      "metadata": {
        "id": "2vJihTBB--ic"
      }
    },
    {
      "cell_type": "code",
      "source": [
        "df1= df.dropna(axis=0)"
      ],
      "metadata": {
        "execution": {
          "iopub.status.busy": "2024-01-07T10:34:05.046546Z",
          "iopub.execute_input": "2024-01-07T10:34:05.047287Z",
          "iopub.status.idle": "2024-01-07T10:34:06.532071Z",
          "shell.execute_reply.started": "2024-01-07T10:34:05.047237Z",
          "shell.execute_reply": "2024-01-07T10:34:06.530836Z"
        },
        "trusted": true,
        "id": "Jq6pPoJE--ic"
      },
      "execution_count": null,
      "outputs": []
    },
    {
      "cell_type": "code",
      "source": [
        "df.shape"
      ],
      "metadata": {
        "execution": {
          "iopub.status.busy": "2024-01-07T10:34:06.533964Z",
          "iopub.execute_input": "2024-01-07T10:34:06.53444Z",
          "iopub.status.idle": "2024-01-07T10:34:06.542953Z",
          "shell.execute_reply.started": "2024-01-07T10:34:06.534396Z",
          "shell.execute_reply": "2024-01-07T10:34:06.541758Z"
        },
        "trusted": true,
        "id": "f8KmRMtw--ic",
        "colab": {
          "base_uri": "https://localhost:8080/"
        },
        "outputId": "4cbb7fbf-66f7-47db-f326-2931f64b9794"
      },
      "execution_count": null,
      "outputs": [
        {
          "output_type": "execute_result",
          "data": {
            "text/plain": [
              "(1687861, 22)"
            ]
          },
          "metadata": {},
          "execution_count": 97
        }
      ]
    },
    {
      "cell_type": "code",
      "source": [
        "df1.shape"
      ],
      "metadata": {
        "execution": {
          "iopub.status.busy": "2024-01-07T10:34:06.544509Z",
          "iopub.execute_input": "2024-01-07T10:34:06.544975Z",
          "iopub.status.idle": "2024-01-07T10:34:06.554869Z",
          "shell.execute_reply.started": "2024-01-07T10:34:06.544934Z",
          "shell.execute_reply": "2024-01-07T10:34:06.553727Z"
        },
        "trusted": true,
        "id": "FO_nyJwY--id",
        "colab": {
          "base_uri": "https://localhost:8080/"
        },
        "outputId": "f0abf558-aaab-4a1f-94d2-44ba7328be60"
      },
      "execution_count": null,
      "outputs": [
        {
          "output_type": "execute_result",
          "data": {
            "text/plain": [
              "(1586967, 22)"
            ]
          },
          "metadata": {},
          "execution_count": 98
        }
      ]
    },
    {
      "cell_type": "code",
      "source": [
        "df2= df1.drop_duplicates()"
      ],
      "metadata": {
        "execution": {
          "iopub.status.busy": "2024-01-07T10:34:06.556437Z",
          "iopub.execute_input": "2024-01-07T10:34:06.556916Z",
          "iopub.status.idle": "2024-01-07T10:34:08.611214Z",
          "shell.execute_reply.started": "2024-01-07T10:34:06.556872Z",
          "shell.execute_reply": "2024-01-07T10:34:08.609885Z"
        },
        "trusted": true,
        "id": "53nj3EJl--id"
      },
      "execution_count": null,
      "outputs": []
    },
    {
      "cell_type": "code",
      "source": [
        "df2.shape"
      ],
      "metadata": {
        "execution": {
          "iopub.status.busy": "2024-01-07T10:34:08.616309Z",
          "iopub.execute_input": "2024-01-07T10:34:08.616746Z",
          "iopub.status.idle": "2024-01-07T10:34:08.623523Z",
          "shell.execute_reply.started": "2024-01-07T10:34:08.616713Z",
          "shell.execute_reply": "2024-01-07T10:34:08.622396Z"
        },
        "trusted": true,
        "id": "yLTlzaVC--id",
        "colab": {
          "base_uri": "https://localhost:8080/"
        },
        "outputId": "b90f68fe-9f7e-4b5c-8f45-53ab448cd579"
      },
      "execution_count": null,
      "outputs": [
        {
          "output_type": "execute_result",
          "data": {
            "text/plain": [
              "(979471, 22)"
            ]
          },
          "metadata": {},
          "execution_count": 100
        }
      ]
    },
    {
      "cell_type": "markdown",
      "source": [
        "- df: raw dataset\n",
        "- df1: dropped na\n",
        "- df2: df1, dropped duplicates"
      ],
      "metadata": {
        "id": "mw3pUUo9--id"
      }
    },
    {
      "cell_type": "code",
      "source": [
        "df1.info()"
      ],
      "metadata": {
        "execution": {
          "iopub.status.busy": "2024-01-07T10:34:55.379301Z",
          "iopub.execute_input": "2024-01-07T10:34:55.379703Z",
          "iopub.status.idle": "2024-01-07T10:34:56.584949Z",
          "shell.execute_reply.started": "2024-01-07T10:34:55.37967Z",
          "shell.execute_reply": "2024-01-07T10:34:56.583684Z"
        },
        "trusted": true,
        "id": "m_s416E2--id",
        "colab": {
          "base_uri": "https://localhost:8080/"
        },
        "outputId": "402a44f0-9f6c-45de-f9ce-be5b5d7b87c9"
      },
      "execution_count": null,
      "outputs": [
        {
          "output_type": "stream",
          "name": "stdout",
          "text": [
            "<class 'pandas.core.frame.DataFrame'>\n",
            "Index: 1586967 entries, 1 to 1687859\n",
            "Data columns (total 22 columns):\n",
            " #   Column             Non-Null Count    Dtype  \n",
            "---  ------             --------------    -----  \n",
            " 0   national_inv       1586967 non-null  float64\n",
            " 1   lead_time          1586967 non-null  float64\n",
            " 2   in_transit_qty     1586967 non-null  float64\n",
            " 3   forecast_3_month   1586967 non-null  float64\n",
            " 4   forecast_6_month   1586967 non-null  float64\n",
            " 5   forecast_9_month   1586967 non-null  float64\n",
            " 6   sales_1_month      1586967 non-null  float64\n",
            " 7   sales_3_month      1586967 non-null  float64\n",
            " 8   sales_6_month      1586967 non-null  float64\n",
            " 9   sales_9_month      1586967 non-null  float64\n",
            " 10  min_bank           1586967 non-null  float64\n",
            " 11  potential_issue    1586967 non-null  object \n",
            " 12  pieces_past_due    1586967 non-null  float64\n",
            " 13  perf_6_month_avg   1586967 non-null  float64\n",
            " 14  perf_12_month_avg  1586967 non-null  float64\n",
            " 15  local_bo_qty       1586967 non-null  float64\n",
            " 16  deck_risk          1586967 non-null  object \n",
            " 17  oe_constraint      1586967 non-null  object \n",
            " 18  ppap_risk          1586967 non-null  object \n",
            " 19  stop_auto_buy      1586967 non-null  object \n",
            " 20  rev_stop           1586967 non-null  object \n",
            " 21  went_on_backorder  1586967 non-null  object \n",
            "dtypes: float64(15), object(7)\n",
            "memory usage: 278.5+ MB\n"
          ]
        }
      ]
    },
    {
      "cell_type": "code",
      "source": [
        "numerical_cols= df1.select_dtypes(include=['number']).columns\n",
        "categorical_cols= df1.select_dtypes(include=['object']).columns"
      ],
      "metadata": {
        "execution": {
          "iopub.status.busy": "2024-01-07T10:34:08.625293Z",
          "iopub.execute_input": "2024-01-07T10:34:08.625721Z",
          "iopub.status.idle": "2024-01-07T10:34:08.853374Z",
          "shell.execute_reply.started": "2024-01-07T10:34:08.625683Z",
          "shell.execute_reply": "2024-01-07T10:34:08.852204Z"
        },
        "trusted": true,
        "id": "801K3PhD--id"
      },
      "execution_count": null,
      "outputs": []
    },
    {
      "cell_type": "code",
      "source": [
        "categorical_cols= ['potential_issue', 'deck_risk', 'oe_constraint', 'ppap_risk',\n",
        "       'stop_auto_buy', 'rev_stop']"
      ],
      "metadata": {
        "execution": {
          "iopub.status.busy": "2024-01-07T10:40:25.030491Z",
          "iopub.execute_input": "2024-01-07T10:40:25.030952Z",
          "iopub.status.idle": "2024-01-07T10:40:25.03717Z",
          "shell.execute_reply.started": "2024-01-07T10:40:25.030917Z",
          "shell.execute_reply": "2024-01-07T10:40:25.035753Z"
        },
        "trusted": true,
        "id": "ZzTJQ4cn--id"
      },
      "execution_count": null,
      "outputs": []
    },
    {
      "cell_type": "code",
      "source": [
        "len(categorical_cols)"
      ],
      "metadata": {
        "execution": {
          "iopub.status.busy": "2024-01-07T10:40:38.872436Z",
          "iopub.execute_input": "2024-01-07T10:40:38.872855Z",
          "iopub.status.idle": "2024-01-07T10:40:38.881152Z",
          "shell.execute_reply.started": "2024-01-07T10:40:38.872809Z",
          "shell.execute_reply": "2024-01-07T10:40:38.879738Z"
        },
        "trusted": true,
        "id": "vVjEBbyi--id",
        "colab": {
          "base_uri": "https://localhost:8080/"
        },
        "outputId": "d7c0f9be-31a9-4177-e130-cc43107b503f"
      },
      "execution_count": null,
      "outputs": [
        {
          "output_type": "execute_result",
          "data": {
            "text/plain": [
              "6"
            ]
          },
          "metadata": {},
          "execution_count": 104
        }
      ]
    },
    {
      "cell_type": "code",
      "source": [
        "len(numerical_cols), len(categorical_cols)"
      ],
      "metadata": {
        "execution": {
          "iopub.status.busy": "2024-01-07T10:40:44.265738Z",
          "iopub.execute_input": "2024-01-07T10:40:44.266152Z",
          "iopub.status.idle": "2024-01-07T10:40:44.273425Z",
          "shell.execute_reply.started": "2024-01-07T10:40:44.266121Z",
          "shell.execute_reply": "2024-01-07T10:40:44.272412Z"
        },
        "trusted": true,
        "id": "hXLKwadz--id",
        "colab": {
          "base_uri": "https://localhost:8080/"
        },
        "outputId": "ac36c9df-d76e-46f0-bb8e-85ec0d571f3f"
      },
      "execution_count": null,
      "outputs": [
        {
          "output_type": "execute_result",
          "data": {
            "text/plain": [
              "(15, 6)"
            ]
          },
          "metadata": {},
          "execution_count": 105
        }
      ]
    },
    {
      "cell_type": "code",
      "source": [
        "X=df1.drop('went_on_backorder', axis=1)\n",
        "y=df1[\"went_on_backorder\"]"
      ],
      "metadata": {
        "execution": {
          "iopub.status.busy": "2024-01-07T10:40:50.112883Z",
          "iopub.execute_input": "2024-01-07T10:40:50.113275Z",
          "iopub.status.idle": "2024-01-07T10:40:50.370023Z",
          "shell.execute_reply.started": "2024-01-07T10:40:50.113246Z",
          "shell.execute_reply": "2024-01-07T10:40:50.368729Z"
        },
        "trusted": true,
        "id": "xUUKuOxq--id"
      },
      "execution_count": null,
      "outputs": []
    },
    {
      "cell_type": "code",
      "source": [
        "label_encoder = LabelEncoder()\n",
        "y_encoded = label_encoder.fit_transform(y)"
      ],
      "metadata": {
        "execution": {
          "iopub.status.busy": "2024-01-07T10:40:52.774082Z",
          "iopub.execute_input": "2024-01-07T10:40:52.774505Z",
          "iopub.status.idle": "2024-01-07T10:40:53.26329Z",
          "shell.execute_reply.started": "2024-01-07T10:40:52.774468Z",
          "shell.execute_reply": "2024-01-07T10:40:53.261796Z"
        },
        "trusted": true,
        "id": "EPfxReQM--id"
      },
      "execution_count": null,
      "outputs": []
    },
    {
      "cell_type": "code",
      "source": [
        "preprocessor = ColumnTransformer(\n",
        "    transformers=[\n",
        "        ('num', StandardScaler(), numerical_cols),\n",
        "        ('cat', OneHotEncoder(), categorical_cols)\n",
        "    ])\n",
        "\n",
        "label_encoder = LabelEncoder()\n",
        "y_encoded = label_encoder.fit_transform(y)"
      ],
      "metadata": {
        "execution": {
          "iopub.status.busy": "2024-01-07T10:41:27.471081Z",
          "iopub.execute_input": "2024-01-07T10:41:27.471516Z",
          "iopub.status.idle": "2024-01-07T10:41:27.959149Z",
          "shell.execute_reply.started": "2024-01-07T10:41:27.471484Z",
          "shell.execute_reply": "2024-01-07T10:41:27.957773Z"
        },
        "trusted": true,
        "id": "RdC-CIn7--id"
      },
      "execution_count": null,
      "outputs": []
    },
    {
      "cell_type": "code",
      "source": [
        "X_train, X_test, y_train, y_test = train_test_split(X, y_encoded, test_size=0.2, random_state=42)"
      ],
      "metadata": {
        "execution": {
          "iopub.status.busy": "2024-01-07T10:37:06.624128Z",
          "iopub.execute_input": "2024-01-07T10:37:06.624519Z",
          "iopub.status.idle": "2024-01-07T10:37:08.152206Z",
          "shell.execute_reply.started": "2024-01-07T10:37:06.624488Z",
          "shell.execute_reply": "2024-01-07T10:37:08.151048Z"
        },
        "trusted": true,
        "id": "nd_k1oSv--id"
      },
      "execution_count": null,
      "outputs": []
    },
    {
      "cell_type": "code",
      "source": [
        "pipeline = Pipeline([\n",
        "    ('preprocessor', preprocessor),\n",
        "    ('classifier', MLPClassifier(hidden_layer_sizes=(64,32,16,4), verbose = True, max_iter=50))\n",
        "])"
      ],
      "metadata": {
        "id": "NfHD4IBVj0n5"
      },
      "execution_count": null,
      "outputs": []
    },
    {
      "cell_type": "code",
      "source": [
        "pipeline.fit(X_train, y_train)"
      ],
      "metadata": {
        "execution": {
          "iopub.status.busy": "2024-01-07T10:41:43.4633Z",
          "iopub.execute_input": "2024-01-07T10:41:43.463717Z",
          "iopub.status.idle": "2024-01-07T10:48:57.46063Z",
          "shell.execute_reply.started": "2024-01-07T10:41:43.463683Z",
          "shell.execute_reply": "2024-01-07T10:48:57.459792Z"
        },
        "trusted": true,
        "id": "hx4pSQ_A--id",
        "colab": {
          "base_uri": "https://localhost:8080/",
          "height": 1000
        },
        "outputId": "6485b688-84e6-472c-b237-b25b303c2d3b"
      },
      "execution_count": null,
      "outputs": [
        {
          "output_type": "stream",
          "name": "stdout",
          "text": [
            "Iteration 1, loss = 0.04069820\n",
            "Iteration 2, loss = 0.03837548\n",
            "Iteration 3, loss = 0.03784391\n",
            "Iteration 4, loss = 0.03732761\n",
            "Iteration 5, loss = 0.03675086\n",
            "Iteration 6, loss = 0.03609125\n",
            "Iteration 7, loss = 0.03587102\n",
            "Iteration 8, loss = 0.03544428\n",
            "Iteration 9, loss = 0.03497256\n",
            "Iteration 10, loss = 0.03485612\n",
            "Iteration 11, loss = 0.03472741\n",
            "Iteration 12, loss = 0.03455744\n",
            "Iteration 13, loss = 0.03433612\n",
            "Iteration 14, loss = 0.03436347\n",
            "Iteration 15, loss = 0.03419350\n",
            "Iteration 16, loss = 0.03420376\n",
            "Iteration 17, loss = 0.03431962\n",
            "Iteration 18, loss = 0.03403710\n",
            "Iteration 19, loss = 0.03393986\n",
            "Iteration 20, loss = 0.03377519\n",
            "Iteration 21, loss = 0.03374918\n",
            "Iteration 22, loss = 0.03381768\n",
            "Iteration 23, loss = 0.03366643\n",
            "Iteration 24, loss = 0.03353235\n",
            "Iteration 25, loss = 0.03357178\n",
            "Iteration 26, loss = 0.03353471\n",
            "Iteration 27, loss = 0.03349417\n",
            "Iteration 28, loss = 0.03337711\n",
            "Iteration 29, loss = 0.03329870\n",
            "Iteration 30, loss = 0.03337509\n",
            "Iteration 31, loss = 0.03316753\n",
            "Iteration 32, loss = 0.03304316\n",
            "Iteration 33, loss = 0.03306941\n",
            "Iteration 34, loss = 0.03296188\n",
            "Iteration 35, loss = 0.03303616\n",
            "Iteration 36, loss = 0.03302017\n",
            "Iteration 37, loss = 0.03284542\n",
            "Iteration 38, loss = 0.03303648\n",
            "Iteration 39, loss = 0.03288938\n",
            "Iteration 40, loss = 0.03276661\n",
            "Iteration 41, loss = 0.03284837\n",
            "Iteration 42, loss = 0.03276813\n",
            "Iteration 43, loss = 0.03271978\n",
            "Iteration 44, loss = 0.03279844\n",
            "Iteration 45, loss = 0.03281211\n",
            "Iteration 46, loss = 0.03282516\n",
            "Iteration 47, loss = 0.03268981\n",
            "Iteration 48, loss = 0.03272109\n",
            "Training loss did not improve more than tol=0.000100 for 10 consecutive epochs. Stopping.\n"
          ]
        },
        {
          "output_type": "execute_result",
          "data": {
            "text/plain": [
              "Pipeline(steps=[('preprocessor',\n",
              "                 ColumnTransformer(transformers=[('num', StandardScaler(),\n",
              "                                                  Index(['national_inv', 'lead_time', 'in_transit_qty', 'forecast_3_month',\n",
              "       'forecast_6_month', 'forecast_9_month', 'sales_1_month',\n",
              "       'sales_3_month', 'sales_6_month', 'sales_9_month', 'min_bank',\n",
              "       'pieces_past_due', 'perf_6_month_avg', 'perf_12_month_avg',\n",
              "       'local_bo_qty'],\n",
              "      dtype='object')),\n",
              "                                                 ('cat', OneHotEncoder(),\n",
              "                                                  ['potential_issue',\n",
              "                                                   'deck_risk', 'oe_constraint',\n",
              "                                                   'ppap_risk', 'stop_auto_buy',\n",
              "                                                   'rev_stop'])])),\n",
              "                ('classifier',\n",
              "                 MLPClassifier(hidden_layer_sizes=(64, 32, 16, 4), max_iter=50,\n",
              "                               verbose=True))])"
            ],
            "text/html": [
              "<style>#sk-container-id-5 {color: black;background-color: white;}#sk-container-id-5 pre{padding: 0;}#sk-container-id-5 div.sk-toggleable {background-color: white;}#sk-container-id-5 label.sk-toggleable__label {cursor: pointer;display: block;width: 100%;margin-bottom: 0;padding: 0.3em;box-sizing: border-box;text-align: center;}#sk-container-id-5 label.sk-toggleable__label-arrow:before {content: \"▸\";float: left;margin-right: 0.25em;color: #696969;}#sk-container-id-5 label.sk-toggleable__label-arrow:hover:before {color: black;}#sk-container-id-5 div.sk-estimator:hover label.sk-toggleable__label-arrow:before {color: black;}#sk-container-id-5 div.sk-toggleable__content {max-height: 0;max-width: 0;overflow: hidden;text-align: left;background-color: #f0f8ff;}#sk-container-id-5 div.sk-toggleable__content pre {margin: 0.2em;color: black;border-radius: 0.25em;background-color: #f0f8ff;}#sk-container-id-5 input.sk-toggleable__control:checked~div.sk-toggleable__content {max-height: 200px;max-width: 100%;overflow: auto;}#sk-container-id-5 input.sk-toggleable__control:checked~label.sk-toggleable__label-arrow:before {content: \"▾\";}#sk-container-id-5 div.sk-estimator input.sk-toggleable__control:checked~label.sk-toggleable__label {background-color: #d4ebff;}#sk-container-id-5 div.sk-label input.sk-toggleable__control:checked~label.sk-toggleable__label {background-color: #d4ebff;}#sk-container-id-5 input.sk-hidden--visually {border: 0;clip: rect(1px 1px 1px 1px);clip: rect(1px, 1px, 1px, 1px);height: 1px;margin: -1px;overflow: hidden;padding: 0;position: absolute;width: 1px;}#sk-container-id-5 div.sk-estimator {font-family: monospace;background-color: #f0f8ff;border: 1px dotted black;border-radius: 0.25em;box-sizing: border-box;margin-bottom: 0.5em;}#sk-container-id-5 div.sk-estimator:hover {background-color: #d4ebff;}#sk-container-id-5 div.sk-parallel-item::after {content: \"\";width: 100%;border-bottom: 1px solid gray;flex-grow: 1;}#sk-container-id-5 div.sk-label:hover label.sk-toggleable__label {background-color: #d4ebff;}#sk-container-id-5 div.sk-serial::before {content: \"\";position: absolute;border-left: 1px solid gray;box-sizing: border-box;top: 0;bottom: 0;left: 50%;z-index: 0;}#sk-container-id-5 div.sk-serial {display: flex;flex-direction: column;align-items: center;background-color: white;padding-right: 0.2em;padding-left: 0.2em;position: relative;}#sk-container-id-5 div.sk-item {position: relative;z-index: 1;}#sk-container-id-5 div.sk-parallel {display: flex;align-items: stretch;justify-content: center;background-color: white;position: relative;}#sk-container-id-5 div.sk-item::before, #sk-container-id-5 div.sk-parallel-item::before {content: \"\";position: absolute;border-left: 1px solid gray;box-sizing: border-box;top: 0;bottom: 0;left: 50%;z-index: -1;}#sk-container-id-5 div.sk-parallel-item {display: flex;flex-direction: column;z-index: 1;position: relative;background-color: white;}#sk-container-id-5 div.sk-parallel-item:first-child::after {align-self: flex-end;width: 50%;}#sk-container-id-5 div.sk-parallel-item:last-child::after {align-self: flex-start;width: 50%;}#sk-container-id-5 div.sk-parallel-item:only-child::after {width: 0;}#sk-container-id-5 div.sk-dashed-wrapped {border: 1px dashed gray;margin: 0 0.4em 0.5em 0.4em;box-sizing: border-box;padding-bottom: 0.4em;background-color: white;}#sk-container-id-5 div.sk-label label {font-family: monospace;font-weight: bold;display: inline-block;line-height: 1.2em;}#sk-container-id-5 div.sk-label-container {text-align: center;}#sk-container-id-5 div.sk-container {/* jupyter's `normalize.less` sets `[hidden] { display: none; }` but bootstrap.min.css set `[hidden] { display: none !important; }` so we also need the `!important` here to be able to override the default hidden behavior on the sphinx rendered scikit-learn.org. See: https://github.com/scikit-learn/scikit-learn/issues/21755 */display: inline-block !important;position: relative;}#sk-container-id-5 div.sk-text-repr-fallback {display: none;}</style><div id=\"sk-container-id-5\" class=\"sk-top-container\"><div class=\"sk-text-repr-fallback\"><pre>Pipeline(steps=[(&#x27;preprocessor&#x27;,\n",
              "                 ColumnTransformer(transformers=[(&#x27;num&#x27;, StandardScaler(),\n",
              "                                                  Index([&#x27;national_inv&#x27;, &#x27;lead_time&#x27;, &#x27;in_transit_qty&#x27;, &#x27;forecast_3_month&#x27;,\n",
              "       &#x27;forecast_6_month&#x27;, &#x27;forecast_9_month&#x27;, &#x27;sales_1_month&#x27;,\n",
              "       &#x27;sales_3_month&#x27;, &#x27;sales_6_month&#x27;, &#x27;sales_9_month&#x27;, &#x27;min_bank&#x27;,\n",
              "       &#x27;pieces_past_due&#x27;, &#x27;perf_6_month_avg&#x27;, &#x27;perf_12_month_avg&#x27;,\n",
              "       &#x27;local_bo_qty&#x27;],\n",
              "      dtype=&#x27;object&#x27;)),\n",
              "                                                 (&#x27;cat&#x27;, OneHotEncoder(),\n",
              "                                                  [&#x27;potential_issue&#x27;,\n",
              "                                                   &#x27;deck_risk&#x27;, &#x27;oe_constraint&#x27;,\n",
              "                                                   &#x27;ppap_risk&#x27;, &#x27;stop_auto_buy&#x27;,\n",
              "                                                   &#x27;rev_stop&#x27;])])),\n",
              "                (&#x27;classifier&#x27;,\n",
              "                 MLPClassifier(hidden_layer_sizes=(64, 32, 16, 4), max_iter=50,\n",
              "                               verbose=True))])</pre><b>In a Jupyter environment, please rerun this cell to show the HTML representation or trust the notebook. <br />On GitHub, the HTML representation is unable to render, please try loading this page with nbviewer.org.</b></div><div class=\"sk-container\" hidden><div class=\"sk-item sk-dashed-wrapped\"><div class=\"sk-label-container\"><div class=\"sk-label sk-toggleable\"><input class=\"sk-toggleable__control sk-hidden--visually\" id=\"sk-estimator-id-29\" type=\"checkbox\" ><label for=\"sk-estimator-id-29\" class=\"sk-toggleable__label sk-toggleable__label-arrow\">Pipeline</label><div class=\"sk-toggleable__content\"><pre>Pipeline(steps=[(&#x27;preprocessor&#x27;,\n",
              "                 ColumnTransformer(transformers=[(&#x27;num&#x27;, StandardScaler(),\n",
              "                                                  Index([&#x27;national_inv&#x27;, &#x27;lead_time&#x27;, &#x27;in_transit_qty&#x27;, &#x27;forecast_3_month&#x27;,\n",
              "       &#x27;forecast_6_month&#x27;, &#x27;forecast_9_month&#x27;, &#x27;sales_1_month&#x27;,\n",
              "       &#x27;sales_3_month&#x27;, &#x27;sales_6_month&#x27;, &#x27;sales_9_month&#x27;, &#x27;min_bank&#x27;,\n",
              "       &#x27;pieces_past_due&#x27;, &#x27;perf_6_month_avg&#x27;, &#x27;perf_12_month_avg&#x27;,\n",
              "       &#x27;local_bo_qty&#x27;],\n",
              "      dtype=&#x27;object&#x27;)),\n",
              "                                                 (&#x27;cat&#x27;, OneHotEncoder(),\n",
              "                                                  [&#x27;potential_issue&#x27;,\n",
              "                                                   &#x27;deck_risk&#x27;, &#x27;oe_constraint&#x27;,\n",
              "                                                   &#x27;ppap_risk&#x27;, &#x27;stop_auto_buy&#x27;,\n",
              "                                                   &#x27;rev_stop&#x27;])])),\n",
              "                (&#x27;classifier&#x27;,\n",
              "                 MLPClassifier(hidden_layer_sizes=(64, 32, 16, 4), max_iter=50,\n",
              "                               verbose=True))])</pre></div></div></div><div class=\"sk-serial\"><div class=\"sk-item sk-dashed-wrapped\"><div class=\"sk-label-container\"><div class=\"sk-label sk-toggleable\"><input class=\"sk-toggleable__control sk-hidden--visually\" id=\"sk-estimator-id-30\" type=\"checkbox\" ><label for=\"sk-estimator-id-30\" class=\"sk-toggleable__label sk-toggleable__label-arrow\">preprocessor: ColumnTransformer</label><div class=\"sk-toggleable__content\"><pre>ColumnTransformer(transformers=[(&#x27;num&#x27;, StandardScaler(),\n",
              "                                 Index([&#x27;national_inv&#x27;, &#x27;lead_time&#x27;, &#x27;in_transit_qty&#x27;, &#x27;forecast_3_month&#x27;,\n",
              "       &#x27;forecast_6_month&#x27;, &#x27;forecast_9_month&#x27;, &#x27;sales_1_month&#x27;,\n",
              "       &#x27;sales_3_month&#x27;, &#x27;sales_6_month&#x27;, &#x27;sales_9_month&#x27;, &#x27;min_bank&#x27;,\n",
              "       &#x27;pieces_past_due&#x27;, &#x27;perf_6_month_avg&#x27;, &#x27;perf_12_month_avg&#x27;,\n",
              "       &#x27;local_bo_qty&#x27;],\n",
              "      dtype=&#x27;object&#x27;)),\n",
              "                                (&#x27;cat&#x27;, OneHotEncoder(),\n",
              "                                 [&#x27;potential_issue&#x27;, &#x27;deck_risk&#x27;,\n",
              "                                  &#x27;oe_constraint&#x27;, &#x27;ppap_risk&#x27;, &#x27;stop_auto_buy&#x27;,\n",
              "                                  &#x27;rev_stop&#x27;])])</pre></div></div></div><div class=\"sk-parallel\"><div class=\"sk-parallel-item\"><div class=\"sk-item\"><div class=\"sk-label-container\"><div class=\"sk-label sk-toggleable\"><input class=\"sk-toggleable__control sk-hidden--visually\" id=\"sk-estimator-id-31\" type=\"checkbox\" ><label for=\"sk-estimator-id-31\" class=\"sk-toggleable__label sk-toggleable__label-arrow\">num</label><div class=\"sk-toggleable__content\"><pre>Index([&#x27;national_inv&#x27;, &#x27;lead_time&#x27;, &#x27;in_transit_qty&#x27;, &#x27;forecast_3_month&#x27;,\n",
              "       &#x27;forecast_6_month&#x27;, &#x27;forecast_9_month&#x27;, &#x27;sales_1_month&#x27;,\n",
              "       &#x27;sales_3_month&#x27;, &#x27;sales_6_month&#x27;, &#x27;sales_9_month&#x27;, &#x27;min_bank&#x27;,\n",
              "       &#x27;pieces_past_due&#x27;, &#x27;perf_6_month_avg&#x27;, &#x27;perf_12_month_avg&#x27;,\n",
              "       &#x27;local_bo_qty&#x27;],\n",
              "      dtype=&#x27;object&#x27;)</pre></div></div></div><div class=\"sk-serial\"><div class=\"sk-item\"><div class=\"sk-estimator sk-toggleable\"><input class=\"sk-toggleable__control sk-hidden--visually\" id=\"sk-estimator-id-32\" type=\"checkbox\" ><label for=\"sk-estimator-id-32\" class=\"sk-toggleable__label sk-toggleable__label-arrow\">StandardScaler</label><div class=\"sk-toggleable__content\"><pre>StandardScaler()</pre></div></div></div></div></div></div><div class=\"sk-parallel-item\"><div class=\"sk-item\"><div class=\"sk-label-container\"><div class=\"sk-label sk-toggleable\"><input class=\"sk-toggleable__control sk-hidden--visually\" id=\"sk-estimator-id-33\" type=\"checkbox\" ><label for=\"sk-estimator-id-33\" class=\"sk-toggleable__label sk-toggleable__label-arrow\">cat</label><div class=\"sk-toggleable__content\"><pre>[&#x27;potential_issue&#x27;, &#x27;deck_risk&#x27;, &#x27;oe_constraint&#x27;, &#x27;ppap_risk&#x27;, &#x27;stop_auto_buy&#x27;, &#x27;rev_stop&#x27;]</pre></div></div></div><div class=\"sk-serial\"><div class=\"sk-item\"><div class=\"sk-estimator sk-toggleable\"><input class=\"sk-toggleable__control sk-hidden--visually\" id=\"sk-estimator-id-34\" type=\"checkbox\" ><label for=\"sk-estimator-id-34\" class=\"sk-toggleable__label sk-toggleable__label-arrow\">OneHotEncoder</label><div class=\"sk-toggleable__content\"><pre>OneHotEncoder()</pre></div></div></div></div></div></div></div></div><div class=\"sk-item\"><div class=\"sk-estimator sk-toggleable\"><input class=\"sk-toggleable__control sk-hidden--visually\" id=\"sk-estimator-id-35\" type=\"checkbox\" ><label for=\"sk-estimator-id-35\" class=\"sk-toggleable__label sk-toggleable__label-arrow\">MLPClassifier</label><div class=\"sk-toggleable__content\"><pre>MLPClassifier(hidden_layer_sizes=(64, 32, 16, 4), max_iter=50, verbose=True)</pre></div></div></div></div></div></div></div>"
            ]
          },
          "metadata": {},
          "execution_count": 111
        }
      ]
    },
    {
      "cell_type": "code",
      "source": [
        "from sklearn.model_selection import cross_val_score"
      ],
      "metadata": {
        "execution": {
          "iopub.status.busy": "2024-01-07T10:50:24.563714Z",
          "iopub.execute_input": "2024-01-07T10:50:24.564151Z",
          "iopub.status.idle": "2024-01-07T10:50:24.569613Z",
          "shell.execute_reply.started": "2024-01-07T10:50:24.564119Z",
          "shell.execute_reply": "2024-01-07T10:50:24.568231Z"
        },
        "trusted": true,
        "id": "q1ZRsoUe--id"
      },
      "execution_count": null,
      "outputs": []
    },
    {
      "cell_type": "code",
      "source": [
        "from sklearn.model_selection import cross_val_predict"
      ],
      "metadata": {
        "execution": {
          "iopub.status.busy": "2024-01-07T10:50:40.465785Z",
          "iopub.execute_input": "2024-01-07T10:50:40.466219Z",
          "iopub.status.idle": "2024-01-07T10:50:40.471592Z",
          "shell.execute_reply.started": "2024-01-07T10:50:40.46619Z",
          "shell.execute_reply": "2024-01-07T10:50:40.470257Z"
        },
        "trusted": true,
        "id": "honiNTxx--id"
      },
      "execution_count": null,
      "outputs": []
    },
    {
      "cell_type": "code",
      "source": [
        "y_pred= pipeline.predict(X_train)"
      ],
      "metadata": {
        "execution": {
          "iopub.status.busy": "2024-01-07T10:53:33.319031Z",
          "iopub.execute_input": "2024-01-07T10:53:33.320192Z",
          "iopub.status.idle": "2024-01-07T10:53:59.437483Z",
          "shell.execute_reply.started": "2024-01-07T10:53:33.320148Z",
          "shell.execute_reply": "2024-01-07T10:53:59.436476Z"
        },
        "trusted": true,
        "id": "QtOUI0YZ--id"
      },
      "execution_count": null,
      "outputs": []
    },
    {
      "cell_type": "code",
      "source": [
        "from sklearn.metrics import confusion_matrix\n"
      ],
      "metadata": {
        "execution": {
          "iopub.status.busy": "2024-01-07T10:54:37.774127Z",
          "iopub.execute_input": "2024-01-07T10:54:37.774525Z",
          "iopub.status.idle": "2024-01-07T10:54:37.779444Z",
          "shell.execute_reply.started": "2024-01-07T10:54:37.774494Z",
          "shell.execute_reply": "2024-01-07T10:54:37.778127Z"
        },
        "trusted": true,
        "id": "YU0oqd2N--id"
      },
      "execution_count": null,
      "outputs": []
    },
    {
      "cell_type": "code",
      "source": [
        "confusion_matrix(y_train, y_pred)"
      ],
      "metadata": {
        "execution": {
          "iopub.status.busy": "2024-01-07T10:54:41.276938Z",
          "iopub.execute_input": "2024-01-07T10:54:41.277322Z",
          "iopub.status.idle": "2024-01-07T10:54:41.505789Z",
          "shell.execute_reply.started": "2024-01-07T10:54:41.277292Z",
          "shell.execute_reply": "2024-01-07T10:54:41.5046Z"
        },
        "trusted": true,
        "id": "3UTULYi2--ie",
        "colab": {
          "base_uri": "https://localhost:8080/"
        },
        "outputId": "5bc5783b-9be4-4704-ae3c-ae74c7773851"
      },
      "execution_count": null,
      "outputs": [
        {
          "output_type": "execute_result",
          "data": {
            "text/plain": [
              "array([[1260832,      20],\n",
              "       [   8633,      88]])"
            ]
          },
          "metadata": {},
          "execution_count": 118
        }
      ]
    },
    {
      "cell_type": "code",
      "source": [
        "from sklearn.metrics import precision_score, recall_score"
      ],
      "metadata": {
        "execution": {
          "iopub.status.busy": "2024-01-07T10:55:06.411225Z",
          "iopub.execute_input": "2024-01-07T10:55:06.411624Z",
          "iopub.status.idle": "2024-01-07T10:55:06.416605Z",
          "shell.execute_reply.started": "2024-01-07T10:55:06.411595Z",
          "shell.execute_reply": "2024-01-07T10:55:06.415655Z"
        },
        "trusted": true,
        "id": "9m__mqBU--ie"
      },
      "execution_count": null,
      "outputs": []
    },
    {
      "cell_type": "code",
      "source": [
        "precision_score(y_train, y_pred)"
      ],
      "metadata": {
        "execution": {
          "iopub.status.busy": "2024-01-07T10:55:46.41401Z",
          "iopub.execute_input": "2024-01-07T10:55:46.41441Z",
          "iopub.status.idle": "2024-01-07T10:55:46.900416Z",
          "shell.execute_reply.started": "2024-01-07T10:55:46.41438Z",
          "shell.execute_reply": "2024-01-07T10:55:46.899587Z"
        },
        "trusted": true,
        "id": "AT14MTkn--ie",
        "colab": {
          "base_uri": "https://localhost:8080/"
        },
        "outputId": "bfa70a83-ff00-45a3-c4b4-4c44be8de923"
      },
      "execution_count": null,
      "outputs": [
        {
          "output_type": "execute_result",
          "data": {
            "text/plain": [
              "0.8148148148148148"
            ]
          },
          "metadata": {},
          "execution_count": 120
        }
      ]
    },
    {
      "cell_type": "code",
      "source": [
        "recall_score(y_train, y_pred)"
      ],
      "metadata": {
        "execution": {
          "iopub.status.busy": "2024-01-07T10:55:50.997763Z",
          "iopub.execute_input": "2024-01-07T10:55:50.998166Z",
          "iopub.status.idle": "2024-01-07T10:55:51.4731Z",
          "shell.execute_reply.started": "2024-01-07T10:55:50.998136Z",
          "shell.execute_reply": "2024-01-07T10:55:51.471734Z"
        },
        "trusted": true,
        "id": "iZdrRNR7--ie"
      },
      "execution_count": null,
      "outputs": []
    },
    {
      "cell_type": "code",
      "source": [],
      "metadata": {
        "id": "1ps1O8dJ--ie"
      },
      "execution_count": null,
      "outputs": []
    },
    {
      "cell_type": "code",
      "source": [],
      "metadata": {
        "id": "qpei32Ri--ie"
      },
      "execution_count": null,
      "outputs": []
    },
    {
      "cell_type": "code",
      "source": [],
      "metadata": {
        "id": "3SDq7b_g--ie"
      },
      "execution_count": null,
      "outputs": []
    }
  ]
}